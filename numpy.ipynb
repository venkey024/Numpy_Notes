{
  "nbformat": 4,
  "nbformat_minor": 0,
  "metadata": {
    "colab": {
      "provenance": [],
      "authorship_tag": "ABX9TyPOkITP2nYeHkpltsumOOma",
      "include_colab_link": true
    },
    "kernelspec": {
      "name": "python3",
      "display_name": "Python 3"
    },
    "language_info": {
      "name": "python"
    }
  },
  "cells": [
    {
      "cell_type": "markdown",
      "metadata": {
        "id": "view-in-github",
        "colab_type": "text"
      },
      "source": [
        "<a href=\"https://colab.research.google.com/github/venkey024/Numpy_Notes/blob/main/numpy.ipynb\" target=\"_parent\"><img src=\"https://colab.research.google.com/assets/colab-badge.svg\" alt=\"Open In Colab\"/></a>"
      ]
    },
    {
      "cell_type": "code",
      "execution_count": null,
      "metadata": {
        "colab": {
          "base_uri": "https://localhost:8080/"
        },
        "id": "0gbR0Ox64DaF",
        "outputId": "52c8c49d-8bf7-4048-d6a9-cc2fe1a0d7d1"
      },
      "outputs": [
        {
          "output_type": "stream",
          "name": "stdout",
          "text": [
            "Requirement already satisfied: numpy in /usr/local/lib/python3.10/dist-packages (1.25.2)\n"
          ]
        }
      ],
      "source": [
        "  # installation numpy\n",
        "! pip install numpy"
      ]
    },
    {
      "cell_type": "code",
      "source": [
        "import numpy as np\n"
      ],
      "metadata": {
        "id": "FTMLWrKH4WDH"
      },
      "execution_count": null,
      "outputs": []
    },
    {
      "cell_type": "code",
      "source": [
        "# central object is an array\n",
        "# create an 1D array\n",
        "a = np.array([1,3,4,5,2,9,4])\n",
        "print(a)\n",
        "print(type(a))\n",
        "# check shape of this array\n",
        "a.shape\n",
        "# How can you check datatype of element in array\n",
        "a.dtype\n",
        "# what is diff b/w int32 and int64\n",
        "#what is diff b/w float32 and float64\n",
        "#how can we find the dimensionalitly of array\n",
        "a.ndim\n"
      ],
      "metadata": {
        "colab": {
          "base_uri": "https://localhost:8080/"
        },
        "id": "mq05EAt54d11",
        "outputId": "748c4983-6692-4632-c911-f468b9525802"
      },
      "execution_count": null,
      "outputs": [
        {
          "output_type": "stream",
          "name": "stdout",
          "text": [
            "[1 3 4 5 2 9 4]\n",
            "<class 'numpy.ndarray'>\n"
          ]
        },
        {
          "output_type": "execute_result",
          "data": {
            "text/plain": [
              "dtype('int64')"
            ]
          },
          "metadata": {},
          "execution_count": 7
        }
      ]
    },
    {
      "cell_type": "code",
      "source": [
        "# how can i see of my array? # no.of eleemnts i an array\n",
        "a.size"
      ],
      "metadata": {
        "id": "dehfouRT63ZG"
      },
      "execution_count": null,
      "outputs": []
    },
    {
      "cell_type": "code",
      "source": [
        "# how can i see the size in bytes of each eleemnt in an array\n",
        "a.itemsize"
      ],
      "metadata": {
        "id": "tk4HQU9O7A88"
      },
      "execution_count": null,
      "outputs": []
    },
    {
      "cell_type": "markdown",
      "source": [
        "Essential methods in an array"
      ],
      "metadata": {
        "id": "gvjaVJnZ7JZ7"
      }
    },
    {
      "cell_type": "code",
      "source": [
        "b  = np.array([1,2,3])\n",
        "print(b[0])\n",
        "b[0] = 5\n",
        "print(b)"
      ],
      "metadata": {
        "colab": {
          "base_uri": "https://localhost:8080/"
        },
        "id": "egpJK4_A7Mda",
        "outputId": "8d154c6a-e0bc-4df7-d85e-056d54c48194"
      },
      "execution_count": null,
      "outputs": [
        {
          "output_type": "stream",
          "name": "stdout",
          "text": [
            "1\n",
            "[5 2 3]\n"
          ]
        }
      ]
    },
    {
      "cell_type": "code",
      "source": [
        "# Do element wise math operation\n",
        "b  = np.array([1,2,3])\n",
        "c = b*np.array([1,2,3])\n",
        "print(c)"
      ],
      "metadata": {
        "colab": {
          "base_uri": "https://localhost:8080/"
        },
        "id": "AOcbmuTl7W68",
        "outputId": "c1b9f3f0-2bcf-4490-a7b5-45777ddc1c7a"
      },
      "execution_count": null,
      "outputs": [
        {
          "output_type": "stream",
          "name": "stdout",
          "text": [
            "[1 4 9]\n"
          ]
        }
      ]
    },
    {
      "cell_type": "markdown",
      "source": [
        "Array vs List"
      ],
      "metadata": {
        "id": "F2scUmGV71oS"
      }
    },
    {
      "cell_type": "code",
      "source": [
        "# array vs list\n",
        "l = [1,2,3,4,5]\n",
        "ar = np.array()\n"
      ],
      "metadata": {
        "id": "cGA_sQ8c7r6d"
      },
      "execution_count": null,
      "outputs": []
    },
    {
      "cell_type": "code",
      "source": [
        "# add item at the end of an array\n",
        "# d. append(10) -- it rises an error\n",
        "#print(d)\n",
        "# there are ways to add the items in the array , but it creates essential creates a new array\n",
        "# l2 = l+[11]\n",
        "# print(l2)\n",
        "l = [1,2,3,4,5]\n",
        "ar = np.array()\n",
        "a2 = ar+np.array([10])\n",
        "print(a2)"
      ],
      "metadata": {
        "id": "3YfWrFZy9Los"
      },
      "execution_count": null,
      "outputs": []
    },
    {
      "cell_type": "code",
      "source": [
        "# vector addition :- addition the arrays with same size\n",
        "# we cannot add the vectors of same size\n",
        "a1 = [1,2,3] + np.array([4,3,2])\n",
        "print(a1)"
      ],
      "metadata": {
        "colab": {
          "base_uri": "https://localhost:8080/"
        },
        "id": "rD6DJ3_n9-v-",
        "outputId": "6c790b57-69a6-42db-897b-2ce53dbcb020"
      },
      "execution_count": null,
      "outputs": [
        {
          "output_type": "stream",
          "name": "stdout",
          "text": [
            "[5 5 5]\n"
          ]
        }
      ]
    },
    {
      "cell_type": "code",
      "source": [
        "# multiplication\n",
        "m = np.array([2,3,4,5])\n",
        "print(m*2)\n"
      ],
      "metadata": {
        "colab": {
          "base_uri": "https://localhost:8080/"
        },
        "id": "GGTxBmCI_GlI",
        "outputId": "e654fe0b-fc8c-495c-d6b7-488997af1f37"
      },
      "execution_count": null,
      "outputs": [
        {
          "output_type": "stream",
          "name": "stdout",
          "text": [
            "[ 4  6  8 10]\n"
          ]
        }
      ]
    },
    {
      "cell_type": "code",
      "source": [
        "# modify each item in a list and store it in new list do multiplication with 2\n",
        "l= [2,4,6,8,10]\n",
        "new_l = [x*2 for x in l]\n",
        "print(new_l)\n",
        "\n"
      ],
      "metadata": {
        "colab": {
          "base_uri": "https://localhost:8080/"
        },
        "id": "gTsJiriK_ppo",
        "outputId": "9146b9d3-756e-48e1-caab-dba72edfe397"
      },
      "execution_count": null,
      "outputs": [
        {
          "output_type": "stream",
          "name": "stdout",
          "text": [
            "[4, 8, 12, 16, 20]\n"
          ]
        }
      ]
    },
    {
      "cell_type": "code",
      "source": [
        "# print square of al\n",
        "print(a1)\n",
        "print(a1**2)"
      ],
      "metadata": {
        "colab": {
          "base_uri": "https://localhost:8080/"
        },
        "id": "uVtQ-ThGAWIr",
        "outputId": "4e8c8c96-c4ee-4bf7-ceed-5191e1b2c76c"
      },
      "execution_count": null,
      "outputs": [
        {
          "output_type": "stream",
          "name": "stdout",
          "text": [
            "[5 5 5]\n",
            "[25 25 25]\n"
          ]
        }
      ]
    },
    {
      "cell_type": "code",
      "source": [
        "# print of square root of a1\n",
        "# print(a1**0.5)\n",
        "# np.exp(a1)\n",
        "np.tanh(a1)\n"
      ],
      "metadata": {
        "colab": {
          "base_uri": "https://localhost:8080/"
        },
        "id": "tIpdLU8tAgP8",
        "outputId": "740576cc-ff6c-49f7-d441-20f43529b22e"
      },
      "execution_count": null,
      "outputs": [
        {
          "output_type": "execute_result",
          "data": {
            "text/plain": [
              "array([0.9999092, 0.9999092, 0.9999092])"
            ]
          },
          "metadata": {},
          "execution_count": 29
        }
      ]
    },
    {
      "cell_type": "code",
      "source": [
        "# how to find log of 2 by using numpy\n",
        "a = np.log(a1)\n",
        "print(a)"
      ],
      "metadata": {
        "colab": {
          "base_uri": "https://localhost:8080/"
        },
        "id": "xzDd_W5tAy-k",
        "outputId": "27899aa9-1bdf-442b-c342-14ce9ca71fe8"
      },
      "execution_count": null,
      "outputs": [
        {
          "output_type": "stream",
          "name": "stdout",
          "text": [
            "[1.60943791 1.60943791 1.60943791]\n"
          ]
        }
      ]
    },
    {
      "cell_type": "code",
      "source": [
        "# dot products\n",
        "a = np.array([1,2,3])\n",
        "b = np.array([3,2,1])\n",
        "# sum of the products of the corresponding entries\n",
        "# multiply each corresponding and element thenn take the sum\n",
        "\n",
        "# cumbersome way of lists\n",
        "dot = 0\n",
        "for i in range(len(a)):\n",
        "  dot += a[i] * b[i]\n",
        "print(dot)\n",
        "\n",
        "\n",
        "\n",
        "print(a*b)\n",
        "\n",
        "\n"
      ],
      "metadata": {
        "colab": {
          "base_uri": "https://localhost:8080/"
        },
        "id": "8GrsZqeQChdu",
        "outputId": "8b3cb4c7-dd4c-4ff3-cde0-d24205608829"
      },
      "execution_count": null,
      "outputs": [
        {
          "output_type": "stream",
          "name": "stdout",
          "text": [
            "10\n",
            "[3 4 3]\n"
          ]
        }
      ]
    },
    {
      "cell_type": "code",
      "source": [
        "# same thing in numpy\n",
        "dot = np.dot(a,b)\n",
        "print(dot)"
      ],
      "metadata": {
        "colab": {
          "base_uri": "https://localhost:8080/"
        },
        "id": "s2mARowwDbRT",
        "outputId": "448b5116-4e81-457b-c4a6-95e1c249f5f2"
      },
      "execution_count": null,
      "outputs": [
        {
          "output_type": "stream",
          "name": "stdout",
          "text": [
            "10\n"
          ]
        }
      ]
    },
    {
      "cell_type": "code",
      "source": [
        "# sstep by step procedure manually\n",
        "c = a* b\n",
        "print(c)\n",
        "d = np.sum(c)\n",
        "print(f'The sum is {d}')"
      ],
      "metadata": {
        "colab": {
          "base_uri": "https://localhost:8080/"
        },
        "id": "bA3OMN4sDm31",
        "outputId": "94f7e81f-cd73-4b8b-8177-e4764fca5336"
      },
      "execution_count": null,
      "outputs": [
        {
          "output_type": "stream",
          "name": "stdout",
          "text": [
            "[3 4 3]\n",
            "The sum is 10\n"
          ]
        }
      ]
    },
    {
      "cell_type": "code",
      "source": [
        "dot = a.dot(b)\n",
        "print(dot)"
      ],
      "metadata": {
        "colab": {
          "base_uri": "https://localhost:8080/"
        },
        "id": "df9fEg6rELuR",
        "outputId": "744a3ac8-63fe-41bc-b081-3999d2e82d63"
      },
      "execution_count": null,
      "outputs": [
        {
          "output_type": "stream",
          "name": "stdout",
          "text": [
            "10\n"
          ]
        }
      ]
    },
    {
      "cell_type": "code",
      "source": [
        "dot = (a*b).sum()\n",
        "print(dot)"
      ],
      "metadata": {
        "colab": {
          "base_uri": "https://localhost:8080/"
        },
        "id": "H9AkDnYXESgX",
        "outputId": "9dc98570-ad16-4589-d9e8-f33a311aa07e"
      },
      "execution_count": null,
      "outputs": [
        {
          "output_type": "stream",
          "name": "stdout",
          "text": [
            "10\n"
          ]
        }
      ]
    },
    {
      "cell_type": "code",
      "source": [
        "# in newer versions\n",
        "dot = a @b\n",
        "print(dot)"
      ],
      "metadata": {
        "colab": {
          "base_uri": "https://localhost:8080/"
        },
        "id": "jV-EelTmEnHu",
        "outputId": "26fb0818-84c0-41c6-fd2a-14d9eca4bf54"
      },
      "execution_count": null,
      "outputs": [
        {
          "output_type": "stream",
          "name": "stdout",
          "text": [
            "10\n"
          ]
        }
      ]
    },
    {
      "cell_type": "code",
      "source": [
        "import numpy as np\n",
        "a = np.array([1,2,3])\n",
        "b = np.array([7,4,5])\n",
        "dot = a@b\n",
        "print(dot)"
      ],
      "metadata": {
        "id": "a7G5mdpDE2Lv",
        "colab": {
          "base_uri": "https://localhost:8080/"
        },
        "outputId": "705afbde-b28a-4f95-d7c4-10c8512fbcc1"
      },
      "execution_count": null,
      "outputs": [
        {
          "output_type": "stream",
          "name": "stdout",
          "text": [
            "30\n"
          ]
        }
      ]
    },
    {
      "cell_type": "markdown",
      "source": [
        "Speed Test -- Array vs List"
      ],
      "metadata": {
        "id": "2ZYFJIBz0qOa"
      }
    },
    {
      "cell_type": "code",
      "source": [
        "from timeit import default_timer as timer\n",
        "a = np.random.randn(1000)\n",
        "b = np.random.randn(1000)\n",
        "# print(a)\n",
        "# print(b)\n",
        "A = list(a)\n",
        "B = list(b)\n",
        "T = 1000\n",
        "def dot1():\n",
        "  dot = 0\n",
        "  for i in range(len(A)):\n",
        "    dot += A[i] * B[i]\n",
        "  return dot\n",
        "def dot2():\n",
        "  return np.dot(a,b)\n",
        "\n",
        "# calculate the timing\n",
        "start = timer()\n",
        "for t in range(T):\n",
        "  dot1()\n",
        "end = timer()\n",
        "t1 = end - start\n",
        "\n",
        "# for dot2\n",
        "start = timer()\n",
        "for t in range(T):\n",
        "  dot2()\n",
        "end = timer()\n",
        "t2 = end - start\n",
        "\n",
        "print('time with list',t1)\n",
        "print('time with array',t2)\n",
        "\n",
        "print(\"ratio\",t1/t2)\n",
        "\n",
        "\n"
      ],
      "metadata": {
        "colab": {
          "base_uri": "https://localhost:8080/"
        },
        "id": "061zz8VSzU7X",
        "outputId": "599e9886-2e3d-419d-c2e3-0ccdffe7215c"
      },
      "execution_count": null,
      "outputs": [
        {
          "output_type": "stream",
          "name": "stdout",
          "text": [
            "time with list 0.22161105600002884\n",
            "time with array 0.001382078000006004\n",
            "ratio 160.34627278566487\n"
          ]
        }
      ]
    },
    {
      "cell_type": "markdown",
      "source": [
        "Multidimensional array"
      ],
      "metadata": {
        "id": "--0vpeZa3cfj"
      }
    },
    {
      "cell_type": "code",
      "source": [],
      "metadata": {
        "id": "Cdp-wDTe3mXj"
      },
      "execution_count": null,
      "outputs": []
    },
    {
      "cell_type": "code",
      "source": [
        "a = np.array([[1,2],[3,4]])\n",
        "a.shape\n",
        "a.dtype\n",
        "a.ndim\n"
      ],
      "metadata": {
        "colab": {
          "base_uri": "https://localhost:8080/"
        },
        "id": "04cTpJ9u0wQy",
        "outputId": "1bcfd9de-c0b9-4aa7-92ae-8fdd9f5c87cd"
      },
      "execution_count": null,
      "outputs": [
        {
          "output_type": "execute_result",
          "data": {
            "text/plain": [
              "2"
            ]
          },
          "metadata": {},
          "execution_count": 19
        }
      ]
    },
    {
      "cell_type": "code",
      "source": [
        "# access the element\n",
        "print(a[0])    # ---[1,2]\n",
        "# print the 5\n",
        "print(a[1,1])"
      ],
      "metadata": {
        "colab": {
          "base_uri": "https://localhost:8080/"
        },
        "id": "QLDtCl5Y37bu",
        "outputId": "45ac1f75-7fb4-4eff-ac4a-519f15355d0e"
      },
      "execution_count": null,
      "outputs": [
        {
          "output_type": "stream",
          "name": "stdout",
          "text": [
            "[1 2]\n",
            "5\n"
          ]
        }
      ]
    },
    {
      "cell_type": "code",
      "source": [
        "# print the all rows in column 0\n",
        "print(a[:,0])"
      ],
      "metadata": {
        "colab": {
          "base_uri": "https://localhost:8080/"
        },
        "id": "aLpPc74m4f22",
        "outputId": "081412e1-434b-42cc-d3ee-7ae3d97b0dc4"
      },
      "execution_count": null,
      "outputs": [
        {
          "output_type": "stream",
          "name": "stdout",
          "text": [
            "[1 4]\n"
          ]
        }
      ]
    },
    {
      "cell_type": "code",
      "source": [
        "# print the all columns in row 0\n",
        "print(a[0,:])"
      ],
      "metadata": {
        "colab": {
          "base_uri": "https://localhost:8080/"
        },
        "id": "jpAmKYkK4yxG",
        "outputId": "e9db1e6a-d5e8-4afa-e525-97145c41d689"
      },
      "execution_count": null,
      "outputs": [
        {
          "output_type": "stream",
          "name": "stdout",
          "text": [
            "[1 2]\n"
          ]
        }
      ]
    },
    {
      "cell_type": "code",
      "source": [
        "# print all the rows in column 1\n",
        "print(a[:,1])"
      ],
      "metadata": {
        "colab": {
          "base_uri": "https://localhost:8080/"
        },
        "id": "Uus795GK5Klg",
        "outputId": "bfefb1dc-94b6-4623-8fd5-e0db48e9195d"
      },
      "execution_count": null,
      "outputs": [
        {
          "output_type": "stream",
          "name": "stdout",
          "text": [
            "[2 5]\n"
          ]
        }
      ]
    },
    {
      "cell_type": "code",
      "source": [
        "print(a[1,:])"
      ],
      "metadata": {
        "colab": {
          "base_uri": "https://localhost:8080/"
        },
        "id": "Fp36sd_f5Tsi",
        "outputId": "b494d23c-3d3b-4eee-c10c-ed288f647506"
      },
      "execution_count": null,
      "outputs": [
        {
          "output_type": "stream",
          "name": "stdout",
          "text": [
            "[4 5]\n"
          ]
        }
      ]
    },
    {
      "cell_type": "code",
      "source": [
        "# Transpose ----> Rows are changed into columns and --coulmns are changed into rows\n",
        "a.T"
      ],
      "metadata": {
        "colab": {
          "base_uri": "https://localhost:8080/"
        },
        "id": "Etlt1U4C5eww",
        "outputId": "29a42ed6-2e84-42d7-a5e5-29fde207f0bb"
      },
      "execution_count": null,
      "outputs": [
        {
          "output_type": "execute_result",
          "data": {
            "text/plain": [
              "array([[1, 4],\n",
              "       [2, 5]])"
            ]
          },
          "metadata": {},
          "execution_count": 16
        }
      ]
    },
    {
      "cell_type": "code",
      "source": [
        "print(a)"
      ],
      "metadata": {
        "colab": {
          "base_uri": "https://localhost:8080/"
        },
        "id": "rnUCHTWJ65mf",
        "outputId": "b5f6710b-ab16-4309-8f2d-fe462e3de1b4"
      },
      "execution_count": null,
      "outputs": [
        {
          "output_type": "stream",
          "name": "stdout",
          "text": [
            "[[1 2]\n",
            " [3 4]]\n"
          ]
        }
      ]
    },
    {
      "cell_type": "code",
      "source": [
        "# matrix mmultiplication with dot\n",
        "b = np.array([[3,4],[5,6]])\n",
        "c = a.dot(b)"
      ],
      "metadata": {
        "colab": {
          "base_uri": "https://localhost:8080/"
        },
        "id": "fivParIT5zXU",
        "outputId": "db9751fe-d011-4547-9709-e832e34ff03b"
      },
      "execution_count": null,
      "outputs": [
        {
          "output_type": "stream",
          "name": "stdout",
          "text": [
            "[[13 16]\n",
            " [29 36]]\n"
          ]
        }
      ]
    },
    {
      "cell_type": "code",
      "source": [
        "# Determiaent finding\n",
        "# fin the det|c|\n",
        "\n",
        "c = np.linalg.det(a)\n",
        "print(c)\n",
        "\n"
      ],
      "metadata": {
        "colab": {
          "base_uri": "https://localhost:8080/"
        },
        "id": "PSqjbGR27ds_",
        "outputId": "93a8cab5-b6cc-4ca6-98a8-2740f1ddc668"
      },
      "execution_count": null,
      "outputs": [
        {
          "output_type": "stream",
          "name": "stdout",
          "text": [
            "-2.0000000000000004\n"
          ]
        }
      ]
    },
    {
      "cell_type": "code",
      "source": [
        "# find the diagonal of a\n",
        "c = np.diag(a)\n",
        "print(c)"
      ],
      "metadata": {
        "colab": {
          "base_uri": "https://localhost:8080/"
        },
        "id": "jZJTF1Uy8OzJ",
        "outputId": "a3cdab9f-f360-4783-9c1e-6126775d503b"
      },
      "execution_count": null,
      "outputs": [
        {
          "output_type": "stream",
          "name": "stdout",
          "text": [
            "[1 4]\n"
          ]
        }
      ]
    },
    {
      "cell_type": "code",
      "source": [
        "# print the inverse of matrix a ?\n",
        "c = np.linalg.inv(a)\n",
        "print(c)"
      ],
      "metadata": {
        "colab": {
          "base_uri": "https://localhost:8080/"
        },
        "id": "mtY4pKds8Z1N",
        "outputId": "b91b422a-f4ab-4e14-84bc-f5d2a204d5a7"
      },
      "execution_count": null,
      "outputs": [
        {
          "output_type": "stream",
          "name": "stdout",
          "text": [
            "[[-2.   1. ]\n",
            " [ 1.5 -0.5]]\n"
          ]
        }
      ]
    },
    {
      "cell_type": "code",
      "source": [
        "# diagonal on a vector returns ...diagonal matrix(overloaded function)\n",
        "c = np.diag([1,4])\n",
        "print(c)"
      ],
      "metadata": {
        "colab": {
          "base_uri": "https://localhost:8080/"
        },
        "id": "cczlMDQS9DvO",
        "outputId": "78f4aab5-90cd-402d-e069-a4f5f16edb67"
      },
      "execution_count": null,
      "outputs": [
        {
          "output_type": "stream",
          "name": "stdout",
          "text": [
            "[[1 0]\n",
            " [0 4]]\n"
          ]
        }
      ]
    },
    {
      "cell_type": "markdown",
      "source": [
        "Indexing,Slicing,boolean,indexing"
      ],
      "metadata": {
        "id": "9bQwg_BV9hh3"
      }
    },
    {
      "cell_type": "code",
      "source": [
        "a = np.array([[1,2,3,4],[5,6,7,8],[9,10,11,12]])\n",
        "print(a)\n",
        "print(a.shape)\n",
        "print(a.ndim)"
      ],
      "metadata": {
        "colab": {
          "base_uri": "https://localhost:8080/"
        },
        "id": "yy_VEE5W9fZH",
        "outputId": "cd7e6538-b3dd-4587-a664-59379789482a"
      },
      "execution_count": null,
      "outputs": [
        {
          "output_type": "stream",
          "name": "stdout",
          "text": [
            "[[ 1  2  3  4]\n",
            " [ 5  6  7  8]\n",
            " [ 9 10 11 12]]\n",
            "(3, 4)\n",
            "2\n"
          ]
        }
      ]
    },
    {
      "cell_type": "code",
      "source": [
        "# print [1 5 9]\n",
        "print(a[:,0])"
      ],
      "metadata": {
        "colab": {
          "base_uri": "https://localhost:8080/"
        },
        "id": "hLNbf-z3-ZZl",
        "outputId": "7124c489-9302-47df-dab7-76d10213247e"
      },
      "execution_count": null,
      "outputs": [
        {
          "output_type": "stream",
          "name": "stdout",
          "text": [
            "[1 5 9]\n"
          ]
        }
      ]
    },
    {
      "cell_type": "code",
      "source": [
        "#\n",
        "print(a[0:2,1:3])"
      ],
      "metadata": {
        "colab": {
          "base_uri": "https://localhost:8080/"
        },
        "id": "cYP2RlCHBskk",
        "outputId": "f02d937e-6e7e-4244-bd78-786d6aa9c8bf"
      },
      "execution_count": null,
      "outputs": [
        {
          "output_type": "stream",
          "name": "stdout",
          "text": [
            "[[2 3]\n",
            " [6 7]]\n"
          ]
        }
      ]
    },
    {
      "cell_type": "code",
      "source": [
        "# neagative index\n",
        "print(a[-1,-1]) # -- -ve row from reverse direction \"-1\" and -ve column in last position"
      ],
      "metadata": {
        "colab": {
          "base_uri": "https://localhost:8080/"
        },
        "id": "RbHXzomaDEPB",
        "outputId": "80d3435c-6e25-495d-e27f-7a0796d2a254"
      },
      "execution_count": null,
      "outputs": [
        {
          "output_type": "stream",
          "name": "stdout",
          "text": [
            "12\n"
          ]
        }
      ]
    },
    {
      "cell_type": "markdown",
      "source": [
        "Boolean indexing"
      ],
      "metadata": {
        "id": "DOJ8wIOoDtFk"
      }
    },
    {
      "cell_type": "code",
      "source": [
        "a = np.array([[1,2],[3,4],[5,6]])\n",
        "print(a)"
      ],
      "metadata": {
        "colab": {
          "base_uri": "https://localhost:8080/"
        },
        "id": "2awW201jDaF7",
        "outputId": "e73ee575-b827-46e5-8284-671f88990785"
      },
      "execution_count": null,
      "outputs": [
        {
          "output_type": "stream",
          "name": "stdout",
          "text": [
            "[[1 2]\n",
            " [3 4]\n",
            " [5 6]]\n"
          ]
        }
      ]
    },
    {
      "cell_type": "code",
      "source": [
        "# print the values \"true\" if it is greater than 2 else false\n",
        "print(a>2)\n",
        "\n",
        "# note: this will be a rank 1 array\n"
      ],
      "metadata": {
        "colab": {
          "base_uri": "https://localhost:8080/"
        },
        "id": "xA0HyEh1D8R_",
        "outputId": "1c2ada69-922b-4f90-ef13-b762deac2f31"
      },
      "execution_count": null,
      "outputs": [
        {
          "output_type": "stream",
          "name": "stdout",
          "text": [
            "[[False False]\n",
            " [ True  True]\n",
            " [ True  True]]\n"
          ]
        }
      ]
    },
    {
      "cell_type": "code",
      "source": [
        "# i want values greater than 2\n",
        "print(a[a>2])\n",
        "print(a[a>2].ndim)"
      ],
      "metadata": {
        "colab": {
          "base_uri": "https://localhost:8080/"
        },
        "id": "T7BOlQm3Ew12",
        "outputId": "61848ccb-0bab-4acb-f816-14e7261e1b27"
      },
      "execution_count": null,
      "outputs": [
        {
          "output_type": "stream",
          "name": "stdout",
          "text": [
            "[3 4 5 6]\n",
            "1\n"
          ]
        }
      ]
    },
    {
      "cell_type": "markdown",
      "source": [
        "# please go through rank 1 of an array"
      ],
      "metadata": {
        "id": "2HnMik5XFHA5"
      }
    },
    {
      "cell_type": "code",
      "source": [
        "# use where\n",
        "#np.where():- same size with modified values\n",
        "b = np.where(a>2,a,-1) # --> where(condition,array,values to be passed)\n",
        "print(b)"
      ],
      "metadata": {
        "colab": {
          "base_uri": "https://localhost:8080/"
        },
        "id": "4RkZx_C8FF79",
        "outputId": "991f21cb-badf-48f8-b034-f451aacbdc7f"
      },
      "execution_count": null,
      "outputs": [
        {
          "output_type": "stream",
          "name": "stdout",
          "text": [
            "[[-1 -1]\n",
            " [ 3  4]\n",
            " [ 5  6]]\n"
          ]
        }
      ]
    },
    {
      "cell_type": "code",
      "source": [
        "# Fancy Indexing :- with this indexing we can access multiple indices at once\n",
        "a = np.array([10,9,78,44,22,67])\n",
        "b = a[[1,3,5]]\n",
        "print(b)"
      ],
      "metadata": {
        "colab": {
          "base_uri": "https://localhost:8080/"
        },
        "id": "FkfJzdKsF8fZ",
        "outputId": "4cb3ae7e-146f-4e9d-b027-328ec469755c"
      },
      "execution_count": null,
      "outputs": [
        {
          "output_type": "stream",
          "name": "stdout",
          "text": [
            "[ 9 44 67]\n"
          ]
        }
      ]
    },
    {
      "cell_type": "code",
      "source": [
        "###************** Compute indices where the condition is true *************\n",
        "\n",
        "a = np.array([[10,9],[78,44]])\n",
        "\n",
        "even = np.argwhere(a % 2 == 0).flatten()\n",
        "print(even)"
      ],
      "metadata": {
        "colab": {
          "base_uri": "https://localhost:8080/"
        },
        "id": "T31-wYhBGg7M",
        "outputId": "dd972035-d5a9-484c-bc0d-1abb7a4dcbe8"
      },
      "execution_count": null,
      "outputs": [
        {
          "output_type": "stream",
          "name": "stdout",
          "text": [
            "[0 0 1 0 1 1]\n"
          ]
        }
      ]
    },
    {
      "cell_type": "markdown",
      "source": [
        "Reshaping an array"
      ],
      "metadata": {
        "id": "GZKRfqckHnUf"
      }
    },
    {
      "cell_type": "code",
      "source": [
        "a = np.arange(1,7)\n",
        "print(a)"
      ],
      "metadata": {
        "colab": {
          "base_uri": "https://localhost:8080/"
        },
        "id": "1waRhC1mHqRd",
        "outputId": "c6161693-180f-4720-d742-83c9a70bfc9e"
      },
      "execution_count": null,
      "outputs": [
        {
          "output_type": "stream",
          "name": "stdout",
          "text": [
            "[1 2 3 4 5 6]\n"
          ]
        }
      ]
    },
    {
      "cell_type": "code",
      "source": [
        "# -- coverts the 1D to multidimensional\n",
        "c = a.reshape(2,3)\n",
        "print(c)"
      ],
      "metadata": {
        "colab": {
          "base_uri": "https://localhost:8080/"
        },
        "id": "oL2PGM8wH8Mx",
        "outputId": "e985b009-b199-43e6-d517-fe992789e170"
      },
      "execution_count": null,
      "outputs": [
        {
          "output_type": "stream",
          "name": "stdout",
          "text": [
            "[[1 2]\n",
            " [3 4]\n",
            " [5 6]]\n"
          ]
        }
      ]
    },
    {
      "cell_type": "code",
      "source": [
        "#newax :- is used to create a new axix in the data [row,:col]\n",
        "# it is required when model require the data to shaped in a certain in a manner\n",
        "print(a.shape)"
      ],
      "metadata": {
        "colab": {
          "base_uri": "https://localhost:8080/"
        },
        "id": "X7xpioPQIOQq",
        "outputId": "a946c916-115b-468e-9ac7-faacdebc3cb6"
      },
      "execution_count": null,
      "outputs": [
        {
          "output_type": "stream",
          "name": "stdout",
          "text": [
            "(6,)\n"
          ]
        }
      ]
    },
    {
      "cell_type": "code",
      "source": [
        "d = a[np.newaxis:,]  #[row(newaxis),:]\n",
        "print(d)\n",
        "print(d.shape)\n",
        "print(d.ndim)"
      ],
      "metadata": {
        "colab": {
          "base_uri": "https://localhost:8080/"
        },
        "id": "A85DzUx_IkoW",
        "outputId": "58caa6f7-21e9-4655-eb4d-3178c2b081a7"
      },
      "execution_count": null,
      "outputs": [
        {
          "output_type": "stream",
          "name": "stdout",
          "text": [
            "[1 2 3 4 5 6]\n",
            "(6,)\n",
            "1\n"
          ]
        }
      ]
    },
    {
      "cell_type": "code",
      "source": [
        "d = a[:,np.newaxis] # [row(default):,column(newaxis)]\n",
        "print(d)\n",
        "print(d.shape)\n",
        "print(d.ndim)"
      ],
      "metadata": {
        "colab": {
          "base_uri": "https://localhost:8080/"
        },
        "id": "NdyNkZ7cJauE",
        "outputId": "9c6bbff3-50ba-4c41-a91f-043c893ae916"
      },
      "execution_count": null,
      "outputs": [
        {
          "output_type": "stream",
          "name": "stdout",
          "text": [
            "[[1]\n",
            " [2]\n",
            " [3]\n",
            " [4]\n",
            " [5]\n",
            " [6]]\n",
            "(6, 1)\n",
            "2\n"
          ]
        }
      ]
    },
    {
      "cell_type": "markdown",
      "source": [
        "#Concatenation in arrays"
      ],
      "metadata": {
        "id": "eujrC97JJq2A"
      }
    },
    {
      "cell_type": "code",
      "source": [
        "a = np.array([[1,2],[3,4]])\n",
        "b = np.array([[5,6],[7,8]])\n",
        "# combined this array into 1D\n",
        "c = np.concatenate((a,b),axis = None)\n",
        "print(c)\n",
        "# axis = 0\n",
        "d = np.concatenate((a,b), axis = 0)\n",
        "print(d)\n",
        "\n",
        "# axis = 1\n",
        "e = np.concatenate((a,b), axis = 1)\n",
        "print(e)"
      ],
      "metadata": {
        "colab": {
          "base_uri": "https://localhost:8080/"
        },
        "id": "BNVVOiQnJqSS",
        "outputId": "d9c49083-d57c-4c18-9243-d876fd681677"
      },
      "execution_count": null,
      "outputs": [
        {
          "output_type": "stream",
          "name": "stdout",
          "text": [
            "[1 2 3 4 5 6 7 8]\n",
            "[[1 2]\n",
            " [3 4]\n",
            " [5 6]\n",
            " [7 8]]\n",
            "[[1 2 5 6]\n",
            " [3 4 7 8]]\n"
          ]
        }
      ]
    },
    {
      "cell_type": "code",
      "source": [
        "a = np.array([[1,2],[3,4]])\n",
        "b = np.array([[5,6]])\n",
        "# add new column in to array :note ---> we have to transpose it\n",
        "c = np.concatenate((a,b.T),axis = 1)\n",
        "print(c)\n"
      ],
      "metadata": {
        "colab": {
          "base_uri": "https://localhost:8080/"
        },
        "id": "huPTs6XNL4Nm",
        "outputId": "eb8d3d92-7c25-4fb9-a950-8fa3a436543a"
      },
      "execution_count": null,
      "outputs": [
        {
          "output_type": "stream",
          "name": "stdout",
          "text": [
            "[[1 2 5]\n",
            " [3 4 6]]\n"
          ]
        }
      ]
    },
    {
      "cell_type": "code",
      "source": [
        "# ***************************** hstack *******************************\n",
        "\n",
        "# hstack :- stack of arrays in sequence horizentally(column wise) need a tuple\n",
        "a = np.array([1,2,3,4])\n",
        "b = np.array([5,6,7,8])\n",
        "c = np.hstack((a,b))\n",
        "print(c)\n",
        "# np.concatenate((a,b),axis = None)\n",
        "d = np.concatenate((a,b),axis = None)\n",
        "print(d)\n",
        "\n"
      ],
      "metadata": {
        "colab": {
          "base_uri": "https://localhost:8080/"
        },
        "id": "nXCOaYsaMqTA",
        "outputId": "3eedbfc3-7695-4ce7-9789-6fe1dfa7a01e"
      },
      "execution_count": null,
      "outputs": [
        {
          "output_type": "stream",
          "name": "stdout",
          "text": [
            "[1 2 3 4 5 6 7 8]\n",
            "[1 2 3 4 5 6 7 8]\n"
          ]
        }
      ]
    },
    {
      "cell_type": "code",
      "source": [
        "#*********************** vstack *******************\n",
        "a = np.array([1,2,3,4])\n",
        "b = np.array([5,6,7,8])\n",
        "c = np.vstack((a,b))\n",
        "print(c)"
      ],
      "metadata": {
        "colab": {
          "base_uri": "https://localhost:8080/"
        },
        "id": "cSs6VjRBNkAm",
        "outputId": "2080d5f0-5ccd-4d40-d0b8-d65f74699bcf"
      },
      "execution_count": null,
      "outputs": [
        {
          "output_type": "stream",
          "name": "stdout",
          "text": [
            "[[1 2 3 4]\n",
            " [5 6 7 8]]\n"
          ]
        }
      ]
    },
    {
      "cell_type": "markdown",
      "source": [
        "Broadcasting"
      ],
      "metadata": {
        "id": "-j-TVOX4BzjM"
      }
    },
    {
      "cell_type": "code",
      "source": [
        "\"\"\" it is a powerful mechanism that allows numpy arrays to work with different shapes\n",
        " when performing the arithmatic operations \"\"\"\n",
        "import numpy as np\n",
        "x = np.array([[1,2,3],[4,5,6],[10,11,12]])\n",
        "y = np.array([1,0,1]) # add y to each row of x using broadcasting\n",
        "z = x+y\n",
        "print(z)\n"
      ],
      "metadata": {
        "colab": {
          "base_uri": "https://localhost:8080/"
        },
        "id": "R2ucmOQqN9cP",
        "outputId": "13d6a0f0-8bec-4381-929a-5882dd35fcd5"
      },
      "execution_count": null,
      "outputs": [
        {
          "output_type": "stream",
          "name": "stdout",
          "text": [
            "[[ 2  2  4]\n",
            " [ 5  5  7]\n",
            " [11 11 13]]\n"
          ]
        }
      ]
    },
    {
      "cell_type": "markdown",
      "source": [
        "Function and axis"
      ],
      "metadata": {
        "id": "M-YJABfcDvgT"
      }
    },
    {
      "cell_type": "code",
      "source": [
        "a = np.array([[7,8,9,10,11,12,13],[17,18,19,20,21,22,23]])\n",
        "print(a.sum()) #---- sum of all elements\n",
        "print(a.sum(axis = 0))\n",
        "print(a.sum(axis = 1))\n",
        "print(a.mean(axis = 0))\n",
        "print(a.mean(axis = 1))"
      ],
      "metadata": {
        "colab": {
          "base_uri": "https://localhost:8080/"
        },
        "id": "6kpreDrkBNyR",
        "outputId": "07401ead-8a48-44c6-ed08-ef2a89f1d72e"
      },
      "execution_count": null,
      "outputs": [
        {
          "output_type": "stream",
          "name": "stdout",
          "text": [
            "210\n",
            "[24 26 28 30 32 34 36]\n",
            "[ 70 140]\n",
            "[12. 13. 14. 15. 16. 17. 18.]\n",
            "[10. 20.]\n"
          ]
        }
      ]
    },
    {
      "cell_type": "markdown",
      "source": [
        "#Data types"
      ],
      "metadata": {
        "id": "MPRxCzS9Foio"
      }
    },
    {
      "cell_type": "code",
      "source": [
        "x = np.array([1,2])\n",
        "print(x.dtype)"
      ],
      "metadata": {
        "colab": {
          "base_uri": "https://localhost:8080/"
        },
        "id": "-9AlIQoEBNus",
        "outputId": "c322e865-01e6-4289-f6fe-794319766e02"
      },
      "execution_count": null,
      "outputs": [
        {
          "output_type": "stream",
          "name": "stdout",
          "text": [
            "int64\n"
          ]
        }
      ]
    },
    {
      "cell_type": "code",
      "source": [
        "# let np choos datatype\n",
        "x = np.array([1.0,2.0])\n",
        "print(x.dtype)"
      ],
      "metadata": {
        "id": "7qqxg6HVBNrp"
      },
      "execution_count": null,
      "outputs": []
    },
    {
      "cell_type": "code",
      "source": [
        "# force a datatype how many bits you want\n",
        "x = np.array([1,2], dtype = np.int32)\n",
        "print(x.dtype)"
      ],
      "metadata": {
        "colab": {
          "base_uri": "https://localhost:8080/"
        },
        "id": "ve9W_MUUBNol",
        "outputId": "ca2904b6-b12d-4dc5-fb49-324b35a3b1f4"
      },
      "execution_count": null,
      "outputs": [
        {
          "output_type": "stream",
          "name": "stdout",
          "text": [
            "int32\n"
          ]
        }
      ]
    },
    {
      "cell_type": "code",
      "source": [
        "x = np.array([1,2], dtype = np.float32)\n",
        "print(x.dtype)"
      ],
      "metadata": {
        "colab": {
          "base_uri": "https://localhost:8080/"
        },
        "id": "cXQqOagfBNlg",
        "outputId": "99f90e7d-b79c-4878-b060-4118bdda46ef"
      },
      "execution_count": null,
      "outputs": [
        {
          "output_type": "stream",
          "name": "stdout",
          "text": [
            "float32\n"
          ]
        }
      ]
    },
    {
      "cell_type": "markdown",
      "source": [
        "Copying"
      ],
      "metadata": {
        "id": "vuFIbijSG9jT"
      }
    },
    {
      "cell_type": "code",
      "source": [
        "a = np.array([1,2,3])\n",
        "b = a    # only copies references\n",
        "b[0] = 42\n",
        "print(a)"
      ],
      "metadata": {
        "colab": {
          "base_uri": "https://localhost:8080/"
        },
        "id": "3qoJzrK0BNii",
        "outputId": "a0afe35c-185a-4017-cedf-b7464332c58d"
      },
      "execution_count": null,
      "outputs": [
        {
          "output_type": "stream",
          "name": "stdout",
          "text": [
            "[42  2  3]\n"
          ]
        }
      ]
    },
    {
      "cell_type": "code",
      "source": [
        "a = np.array([1,2,3])\n",
        "b = a.copy() # actual copy\n",
        "b[0] = 42\n",
        "print(a)\n",
        "print(b)"
      ],
      "metadata": {
        "colab": {
          "base_uri": "https://localhost:8080/"
        },
        "id": "rRM8cwIJBNfa",
        "outputId": "cc5bc441-7e53-4879-8896-4d43f8fad18b"
      },
      "execution_count": null,
      "outputs": [
        {
          "output_type": "stream",
          "name": "stdout",
          "text": [
            "[1 2 3]\n",
            "[42  2  3]\n"
          ]
        }
      ]
    },
    {
      "cell_type": "markdown",
      "source": [
        "# Generative arrays"
      ],
      "metadata": {
        "id": "LH-oYtbOH2lV"
      }
    },
    {
      "cell_type": "code",
      "source": [
        "# print zeroes matrix 2 rows and 3 columns\n",
        "a = np.zeros((2,3))\n",
        "print(a)\n",
        "# specific  nuber of matrix in 3 rows and 3 columns\n",
        "c = np.full((3,3),(5))\n",
        "print(c)\n"
      ],
      "metadata": {
        "colab": {
          "base_uri": "https://localhost:8080/"
        },
        "id": "K637sxIfBNcP",
        "outputId": "4bfec735-ef94-4bcc-a6bd-1d1bb9515fad"
      },
      "execution_count": null,
      "outputs": [
        {
          "output_type": "stream",
          "name": "stdout",
          "text": [
            "[[1. 1. 1.]\n",
            " [1. 1. 1.]]\n",
            "[[5 5 5]\n",
            " [5 5 5]\n",
            " [5 5 5]]\n"
          ]
        }
      ]
    },
    {
      "cell_type": "code",
      "source": [
        "# print identity matrix\n",
        "d = np.eye(3)\n",
        "print(d)"
      ],
      "metadata": {
        "colab": {
          "base_uri": "https://localhost:8080/"
        },
        "id": "A_Ty5ERkBNY3",
        "outputId": "1ffa5978-37c5-4f7b-895c-da1b00574b4e"
      },
      "execution_count": null,
      "outputs": [
        {
          "output_type": "stream",
          "name": "stdout",
          "text": [
            "[[1. 0. 0.]\n",
            " [0. 1. 0.]\n",
            " [0. 0. 1.]]\n"
          ]
        }
      ]
    },
    {
      "cell_type": "code",
      "source": [
        "a = np.arange(10)\n",
        "print(a)"
      ],
      "metadata": {
        "colab": {
          "base_uri": "https://localhost:8080/"
        },
        "id": "yzlX5tCNBNVk",
        "outputId": "b4b04bbc-ceac-4fb9-8a72-29e848a03315"
      },
      "execution_count": null,
      "outputs": [
        {
          "output_type": "stream",
          "name": "stdout",
          "text": [
            "[0 1 2 3 4 5 6 7 8 9]\n"
          ]
        }
      ]
    },
    {
      "cell_type": "code",
      "source": [
        "# linspace -- to separate the given data in to specific numbers\n",
        "# dividing the range of numbers into parts\n",
        "f = np.linspace(0,10,5)\n",
        "print(f)\n"
      ],
      "metadata": {
        "colab": {
          "base_uri": "https://localhost:8080/"
        },
        "id": "0feVks98BNSD",
        "outputId": "9b09ea8d-12e9-4dd3-dd04-f40858b266ba"
      },
      "execution_count": null,
      "outputs": [
        {
          "output_type": "stream",
          "name": "stdout",
          "text": [
            "[ 0.   2.5  5.   7.5 10. ]\n"
          ]
        }
      ]
    },
    {
      "cell_type": "markdown",
      "source": [
        "#Random numbers"
      ],
      "metadata": {
        "id": "mXXAtZocJd9d"
      }
    },
    {
      "cell_type": "code",
      "source": [
        "# random numbers\n",
        "a = np.random.random(10)  # uniform 0-1 distributed\n",
        "print(a)"
      ],
      "metadata": {
        "colab": {
          "base_uri": "https://localhost:8080/"
        },
        "id": "lmJEFjjmBNOs",
        "outputId": "f23cde32-be9d-493c-d87b-0240633393f9"
      },
      "execution_count": null,
      "outputs": [
        {
          "output_type": "stream",
          "name": "stdout",
          "text": [
            "[0.32648723 0.47038421 0.42117084 0.70534071 0.45519231 0.84278196\n",
            " 0.81125487 0.905247   0.5887928  0.48945147]\n"
          ]
        }
      ]
    },
    {
      "cell_type": "code",
      "source": [
        "a = np.random.random(3)\n",
        "print(a)"
      ],
      "metadata": {
        "colab": {
          "base_uri": "https://localhost:8080/"
        },
        "id": "4JjW6ectT56E",
        "outputId": "6ed2797b-d6b5-43b4-bd1b-b7ba2ee3d558"
      },
      "execution_count": null,
      "outputs": [
        {
          "output_type": "stream",
          "name": "stdout",
          "text": [
            "[0.49885616 0.01530908 0.56010659]\n"
          ]
        }
      ]
    },
    {
      "cell_type": "code",
      "source": [
        "b = np.random.randn(3,2) # normal/gussian distribution, mean 0 and unit variance\n",
        "                         #\n",
        "print(b)"
      ],
      "metadata": {
        "colab": {
          "base_uri": "https://localhost:8080/"
        },
        "id": "7r3VG75GBNLt",
        "outputId": "0e0250c0-98c7-42e5-bac0-6970b719fb2e"
      },
      "execution_count": null,
      "outputs": [
        {
          "output_type": "stream",
          "name": "stdout",
          "text": [
            "[[ 0.90319228 -0.27946389]\n",
            " [-0.51054251 -0.16456526]\n",
            " [ 0.75858842  1.99098152]]\n"
          ]
        }
      ]
    },
    {
      "cell_type": "code",
      "source": [
        "m = np.random.randn(1000)\n",
        "print(m.mean(),c.var(),c.std())\n"
      ],
      "metadata": {
        "colab": {
          "base_uri": "https://localhost:8080/"
        },
        "id": "fg25G_GaKwDT",
        "outputId": "8b357428-5093-4e75-8fd6-f9a92bd667a3"
      },
      "execution_count": null,
      "outputs": [
        {
          "output_type": "stream",
          "name": "stdout",
          "text": [
            "-0.031068998862162942 0.0 0.0\n"
          ]
        }
      ]
    },
    {
      "cell_type": "code",
      "source": [
        "d = np.random.randn(10,3)\n",
        "print(d)\n",
        "print(d.mean())"
      ],
      "metadata": {
        "colab": {
          "base_uri": "https://localhost:8080/"
        },
        "id": "CZn-dr5RLOUl",
        "outputId": "24abbe16-a68c-44c3-c77e-a9e113c47035"
      },
      "execution_count": null,
      "outputs": [
        {
          "output_type": "stream",
          "name": "stdout",
          "text": [
            "[[ 0.37080891  0.70388268 -0.80761622]\n",
            " [ 0.93922324 -0.33890034  0.29488327]\n",
            " [ 0.24304063 -1.78204351 -0.96113863]\n",
            " [-1.87524071 -0.47111559  0.95810132]\n",
            " [ 0.25711439  1.23095637 -0.77998104]\n",
            " [-0.79258763 -1.42720969  0.75492524]\n",
            " [-0.81456784 -1.02350734 -0.52214778]\n",
            " [-1.29622247 -0.54998559  0.97001703]\n",
            " [-0.8780379   1.13068674 -2.54565485]\n",
            " [-0.47299983  0.73822499  0.0973373 ]]\n",
            "-0.28832516172083406\n"
          ]
        }
      ]
    },
    {
      "cell_type": "code",
      "source": [
        "d = np.random.randint(3,10, size =(3,3))\n",
        "print(d)"
      ],
      "metadata": {
        "colab": {
          "base_uri": "https://localhost:8080/"
        },
        "id": "iaW-RSRzLhAi",
        "outputId": "f69f4d87-7867-44fe-b4a6-e5ba4015df09"
      },
      "execution_count": null,
      "outputs": [
        {
          "output_type": "stream",
          "name": "stdout",
          "text": [
            "[[6 3 7]\n",
            " [9 8 3]\n",
            " [9 4 7]]\n"
          ]
        }
      ]
    },
    {
      "cell_type": "code",
      "source": [
        "#*********************with integer between 0 upto integer exclusive\n",
        "f = np.random.choice(10,size = 8)\n",
        "print(f)"
      ],
      "metadata": {
        "colab": {
          "base_uri": "https://localhost:8080/"
        },
        "id": "0Vj-ANl9Mj9C",
        "outputId": "adfa7e60-f67a-4875-9071-5dd62dea6b7c"
      },
      "execution_count": null,
      "outputs": [
        {
          "output_type": "stream",
          "name": "stdout",
          "text": [
            "[8 7 8 6 4 2 6 5]\n"
          ]
        }
      ]
    },
    {
      "cell_type": "code",
      "source": [
        "a = np.random.randint(10,50,size = 1)\n",
        "print(a)"
      ],
      "metadata": {
        "colab": {
          "base_uri": "https://localhost:8080/"
        },
        "id": "_2jQdpieZGn4",
        "outputId": "e1869c47-673d-4486-8232-c222bdfd115e"
      },
      "execution_count": null,
      "outputs": [
        {
          "output_type": "stream",
          "name": "stdout",
          "text": [
            "[26]\n"
          ]
        }
      ]
    },
    {
      "cell_type": "code",
      "source": [
        "f = np.random.choice([1,2,3,4,5,6], size = 1)\n",
        "print(f)"
      ],
      "metadata": {
        "colab": {
          "base_uri": "https://localhost:8080/"
        },
        "id": "-LTHRbo0NMh7",
        "outputId": "ce542007-07c6-4069-8803-3d0b57251b6b"
      },
      "execution_count": null,
      "outputs": [
        {
          "output_type": "stream",
          "name": "stdout",
          "text": [
            "[6]\n"
          ]
        }
      ]
    },
    {
      "cell_type": "code",
      "source": [
        "a = np.array([1, 2, 3, 4, 5])\n",
        "random_sample = np.random.choice(a, size=3, replace=False)\n",
        "print(random_sample)"
      ],
      "metadata": {
        "colab": {
          "base_uri": "https://localhost:8080/"
        },
        "id": "Fv55yxw_aHRF",
        "outputId": "891541f5-7eef-4fc5-c0ca-2871c764ffbc"
      },
      "execution_count": null,
      "outputs": [
        {
          "output_type": "stream",
          "name": "stdout",
          "text": [
            "[1 2 5]\n"
          ]
        }
      ]
    },
    {
      "cell_type": "markdown",
      "source": [
        "# linear Algebra(Eigen value/solving linear systems)"
      ],
      "metadata": {
        "id": "hS2fqbDpNd53"
      }
    },
    {
      "cell_type": "code",
      "source": [
        "a = np.array([[1,2],[3,4]])\n",
        "eigenvalues, eigenvectors = np.linalg.eig(a)\n",
        "print(eigenvalues)\n",
        "print(eigenvectors)"
      ],
      "metadata": {
        "colab": {
          "base_uri": "https://localhost:8080/"
        },
        "id": "5IE6yIAINddm",
        "outputId": "519cbb8b-1059-4e40-fc7f-9a14268ad405"
      },
      "execution_count": null,
      "outputs": [
        {
          "output_type": "stream",
          "name": "stdout",
          "text": [
            "[-0.37228132  5.37228132]\n",
            "[[-0.82456484 -0.41597356]\n",
            " [ 0.56576746 -0.90937671]]\n"
          ]
        }
      ]
    },
    {
      "cell_type": "code",
      "source": [
        "print(eigenvectors[:,0])"
      ],
      "metadata": {
        "colab": {
          "base_uri": "https://localhost:8080/"
        },
        "id": "4MTNhuO5PXFL",
        "outputId": "b64d7e81-abaf-4144-8710-07fcaff91c9e"
      },
      "execution_count": null,
      "outputs": [
        {
          "output_type": "stream",
          "name": "stdout",
          "text": [
            "[-0.82456484  0.56576746]\n"
          ]
        }
      ]
    },
    {
      "cell_type": "code",
      "source": [
        "# how can we verify the eigenvalues and eigen vectors\n",
        "#) e-vec  * e-val = a * e-vector\n",
        "d = eigenvectors[:,0] * eigenvalues[0]\n",
        "e = a @ eigenvectors[:,0]\n",
        "print(d)\n",
        "print(e)\n",
        "print(d == e)\n",
        "# correct way to compare matrix\n",
        "print(np.allclose(d,e))"
      ],
      "metadata": {
        "colab": {
          "base_uri": "https://localhost:8080/"
        },
        "id": "et8gAIzgPv_j",
        "outputId": "42218122-87f7-41be-be4b-3832baa9abe9"
      },
      "execution_count": null,
      "outputs": [
        {
          "output_type": "stream",
          "name": "stdout",
          "text": [
            "[ 0.30697009 -0.21062466]\n",
            "[ 0.30697009 -0.21062466]\n",
            "[ True False]\n",
            "True\n"
          ]
        }
      ]
    },
    {
      "cell_type": "code",
      "source": [
        "m = np.array([[1,2,3],[4,5,6]])\n",
        "n = np.array([[1,2,3],[4,5,6]])\n",
        "print(np.allclose(m,n))\n"
      ],
      "metadata": {
        "colab": {
          "base_uri": "https://localhost:8080/"
        },
        "id": "oV9eUu6wVIhM",
        "outputId": "834136a9-32f5-47f8-dab9-fdf233fedb2b"
      },
      "execution_count": null,
      "outputs": [
        {
          "output_type": "stream",
          "name": "stdout",
          "text": [
            "True\n"
          ]
        }
      ]
    },
    {
      "cell_type": "code",
      "source": [
        "# solving the linear systems\n",
        "# x1 + x2 = 2200\n",
        "# 1.5 x1  + 4 x2 = 5050\n",
        "A = np.array([[1,1],[1.5,4]])\n",
        "B = np.array([2200,5050])\n",
        "# formula --> Ax = B <=> x = A- 1 B\n",
        "\n",
        "# *****  1st method ******\n",
        "\n",
        "# solving inverse is slow and less accurate\n",
        "x = np.linalg.inv(A).dot(B)\n",
        "print(x)\n",
        "\n",
        "# ***** 2nd method\n",
        "y = np.linalg.solve(A,B)\n",
        "print(y)"
      ],
      "metadata": {
        "colab": {
          "base_uri": "https://localhost:8080/"
        },
        "id": "koAyQj-aQzSU",
        "outputId": "ccfe8597-3d78-4502-fb57-e8373d8acca3"
      },
      "execution_count": null,
      "outputs": [
        {
          "output_type": "stream",
          "name": "stdout",
          "text": [
            "[1500.  700.]\n",
            "[1500.  700.]\n"
          ]
        }
      ]
    },
    {
      "cell_type": "markdown",
      "source": [
        "# loading a csv file using numpy"
      ],
      "metadata": {
        "id": "-OvEo_moTGTV"
      }
    },
    {
      "cell_type": "code",
      "source": [
        "# load it with np.loadtxt\n",
        "data = np.loadtxt(\"/content/sample_data/california_housing_train.csv\" ,delimiter = \",\",dtype = str)\n",
        "print(data.shape,data.dtype)\n"
      ],
      "metadata": {
        "id": "FyiaWGaQTFGN",
        "colab": {
          "base_uri": "https://localhost:8080/"
        },
        "outputId": "027308d5-b05f-40ae-abf7-919b04f1eeb1"
      },
      "execution_count": null,
      "outputs": [
        {
          "output_type": "stream",
          "name": "stdout",
          "text": [
            "(17001, 9) <U20\n"
          ]
        }
      ]
    },
    {
      "cell_type": "code",
      "source": [
        "data = np.genfromtxt(\"/content/sample_data/california_housing_train.csv\" ,delimiter = \",\",dtype = str)\n",
        "print(data.shape,data.dtype)"
      ],
      "metadata": {
        "colab": {
          "base_uri": "https://localhost:8080/"
        },
        "id": "negmObtVUsOM",
        "outputId": "77310ff2-4098-4249-aaf0-68f927cc8abd"
      },
      "execution_count": null,
      "outputs": [
        {
          "output_type": "stream",
          "name": "stdout",
          "text": [
            "(17001, 9) <U20\n"
          ]
        }
      ]
    },
    {
      "cell_type": "code",
      "source": [
        "a = np.array([[0,1],[1,0]])\n",
        "m = np.tile(a,(4,4))\n",
        "print(m)"
      ],
      "metadata": {
        "colab": {
          "base_uri": "https://localhost:8080/"
        },
        "id": "4WSZFriqbp3j",
        "outputId": "f7d3ef53-a85b-4719-92b9-0d3b3fd1ae7d"
      },
      "execution_count": null,
      "outputs": [
        {
          "output_type": "stream",
          "name": "stdout",
          "text": [
            "[[0 1 0 1 0 1 0 1]\n",
            " [1 0 1 0 1 0 1 0]\n",
            " [0 1 0 1 0 1 0 1]\n",
            " [1 0 1 0 1 0 1 0]\n",
            " [0 1 0 1 0 1 0 1]\n",
            " [1 0 1 0 1 0 1 0]\n",
            " [0 1 0 1 0 1 0 1]\n",
            " [1 0 1 0 1 0 1 0]]\n"
          ]
        }
      ]
    }
  ]
}